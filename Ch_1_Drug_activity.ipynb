{
  "cells": [
    {
      "cell_type": "code",
      "execution_count": null,
      "metadata": {
        "colab": {
          "base_uri": "https://localhost:8080/"
        },
        "id": "hdleKAmlVhyz",
        "outputId": "ca022e9a-f643-4f18-ca12-8416e8b6ff33"
      },
      "outputs": [
        {
          "output_type": "stream",
          "name": "stdout",
          "text": [
            "Looking in indexes: https://pypi.org/simple, https://us-python.pkg.dev/colab-wheels/public/simple/\n",
            "Collecting rdkit\n",
            "  Downloading rdkit-2022.9.5-cp39-cp39-manylinux_2_17_x86_64.manylinux2014_x86_64.whl (29.4 MB)\n",
            "\u001b[2K     \u001b[90m━━━━━━━━━━━━━━━━━━━━━━━━━━━━━━━━━━━━━━━━\u001b[0m \u001b[32m29.4/29.4 MB\u001b[0m \u001b[31m25.9 MB/s\u001b[0m eta \u001b[36m0:00:00\u001b[0m\n",
            "\u001b[?25hRequirement already satisfied: numpy in /usr/local/lib/python3.9/dist-packages (from rdkit) (1.22.4)\n",
            "Requirement already satisfied: Pillow in /usr/local/lib/python3.9/dist-packages (from rdkit) (8.4.0)\n",
            "Installing collected packages: rdkit\n",
            "Successfully installed rdkit-2022.9.5\n"
          ]
        }
      ],
      "source": [
        "!pip install rdkit"
      ]
    },
    {
      "cell_type": "code",
      "source": [],
      "metadata": {
        "id": "E0EjVWKo7hBT"
      },
      "execution_count": null,
      "outputs": []
    },
    {
      "cell_type": "markdown",
      "source": [
        "#Importing Libraries "
      ],
      "metadata": {
        "id": "uqEvEGQ67hhy"
      }
    },
    {
      "cell_type": "code",
      "execution_count": null,
      "metadata": {
        "colab": {
          "base_uri": "https://localhost:8080/"
        },
        "id": "Ch9Hv1gRTCA0",
        "outputId": "07585e6a-13e5-42bd-9a0b-2cb161cb9fb4"
      },
      "outputs": [
        {
          "output_type": "stream",
          "name": "stdout",
          "text": [
            "2022.09.5\n"
          ]
        }
      ],
      "source": [
        "import os\n",
        "import pandas as pd\n",
        "import numpy as np\n",
        "import copy\n",
        "import argparse\n",
        "import rdkit\n",
        "from rdkit import Chem\n",
        "from rdkit.ML.Descriptors import MoleculeDescriptors\n",
        "from rdkit.Chem import AllChem, Draw, DataStructs\n",
        "from rdkit.Chem import inchi\n",
        "from rdkit import RDLogger  \n",
        "RDLogger.DisableLog('rdApp.*') \n",
        "from sklearn.model_selection import train_test_split\n",
        "from sklearn.model_selection import GridSearchCV\n",
        "from rdkit.Chem.Draw import rdMolDraw2D\n",
        "from IPython.display import SVG\n",
        "\n",
        "from sklearn.ensemble import RandomForestClassifier\n",
        "from sklearn.metrics import classification_report, roc_auc_score, confusion_matrix\n",
        "from tqdm import tqdm\n",
        "import matplotlib.pyplot as plt\n",
        "from imblearn.over_sampling import SMOTE\n",
        "import warnings\n",
        "warnings.filterwarnings(\"ignore\")\n",
        "\n",
        "print(rdkit.__version__)"
      ]
    },
    {
      "cell_type": "markdown",
      "source": [
        "#Training Dataset"
      ],
      "metadata": {
        "id": "hQzDgTFX7zCT"
      }
    },
    {
      "cell_type": "code",
      "execution_count": null,
      "metadata": {
        "colab": {
          "base_uri": "https://localhost:8080/",
          "height": 419
        },
        "id": "8xII46u-VMwQ",
        "outputId": "75d710dd-7b69-44cf-c894-741dc9d1eb82"
      },
      "outputs": [
        {
          "output_type": "execute_result",
          "data": {
            "text/plain": [
              "                                                  smiles  task1  task2  task3  \\\n",
              "0       CC(=O)N(C)c1cccc(-c2ccnc3c(C(=O)c4cccs4)cnn23)c1      0      0      0   \n",
              "1                  COc1cc(N)c(Cl)cc1C(=O)OCCCN1CCCCC1.Cl      0      0      0   \n",
              "2                         CCCCNc1c(C(=O)OCC)cnc2c1cnn2CC      0      0      0   \n",
              "3          C#Cc1cccc(Nc2ncnc3cc(OCCOC)c(OCCOC)cc23)c1.Cl      0      0      0   \n",
              "4                       CC1OC2(CCCCC2Oc2cccc(Cl)c2)N=C1O      0      0      0   \n",
              "...                                                  ...    ...    ...    ...   \n",
              "11995               CC(C)(C)NC[C@@H](O)COc1nsnc1N1CCOCC1      0      0      0   \n",
              "11996  CCC[C@@]1(CCc2ccccc2)CC(O)=C([C@H](CC)c2cccc(N...      0      0      0   \n",
              "11997                            N=C(O)c1cnc(C2CC2)[nH]1      0      0      0   \n",
              "11998                                             CN=C=O      0      0      0   \n",
              "11999                     Cc1ccc2c(c1N)C(=O)c1ccccc1C2=O      0      0      0   \n",
              "\n",
              "       task4  task5  task6  task7  task8  task9  task10  task11  \n",
              "0          0      0      0      0     -1      0       0       0  \n",
              "1          0      0      0      0     -1      0       0       0  \n",
              "2          0      0      0      0      0      0       1       0  \n",
              "3          0      0      0      0     -1      0       0       1  \n",
              "4          0      0      0      0      0      0       1       0  \n",
              "...      ...    ...    ...    ...    ...    ...     ...     ...  \n",
              "11995      0      0      0      0     -1      0       0       0  \n",
              "11996      0      0      0      0     -1      0       0       0  \n",
              "11997     -1      0      0      0      0      0       0       0  \n",
              "11998      0      0      0     -1      0      0       0       0  \n",
              "11999      0      0      0     -1      0      1       0       0  \n",
              "\n",
              "[12000 rows x 12 columns]"
            ],
            "text/html": [
              "\n",
              "  <div id=\"df-af5810ab-3254-4ad6-a49c-8e39869135f6\">\n",
              "    <div class=\"colab-df-container\">\n",
              "      <div>\n",
              "<style scoped>\n",
              "    .dataframe tbody tr th:only-of-type {\n",
              "        vertical-align: middle;\n",
              "    }\n",
              "\n",
              "    .dataframe tbody tr th {\n",
              "        vertical-align: top;\n",
              "    }\n",
              "\n",
              "    .dataframe thead th {\n",
              "        text-align: right;\n",
              "    }\n",
              "</style>\n",
              "<table border=\"1\" class=\"dataframe\">\n",
              "  <thead>\n",
              "    <tr style=\"text-align: right;\">\n",
              "      <th></th>\n",
              "      <th>smiles</th>\n",
              "      <th>task1</th>\n",
              "      <th>task2</th>\n",
              "      <th>task3</th>\n",
              "      <th>task4</th>\n",
              "      <th>task5</th>\n",
              "      <th>task6</th>\n",
              "      <th>task7</th>\n",
              "      <th>task8</th>\n",
              "      <th>task9</th>\n",
              "      <th>task10</th>\n",
              "      <th>task11</th>\n",
              "    </tr>\n",
              "  </thead>\n",
              "  <tbody>\n",
              "    <tr>\n",
              "      <th>0</th>\n",
              "      <td>CC(=O)N(C)c1cccc(-c2ccnc3c(C(=O)c4cccs4)cnn23)c1</td>\n",
              "      <td>0</td>\n",
              "      <td>0</td>\n",
              "      <td>0</td>\n",
              "      <td>0</td>\n",
              "      <td>0</td>\n",
              "      <td>0</td>\n",
              "      <td>0</td>\n",
              "      <td>-1</td>\n",
              "      <td>0</td>\n",
              "      <td>0</td>\n",
              "      <td>0</td>\n",
              "    </tr>\n",
              "    <tr>\n",
              "      <th>1</th>\n",
              "      <td>COc1cc(N)c(Cl)cc1C(=O)OCCCN1CCCCC1.Cl</td>\n",
              "      <td>0</td>\n",
              "      <td>0</td>\n",
              "      <td>0</td>\n",
              "      <td>0</td>\n",
              "      <td>0</td>\n",
              "      <td>0</td>\n",
              "      <td>0</td>\n",
              "      <td>-1</td>\n",
              "      <td>0</td>\n",
              "      <td>0</td>\n",
              "      <td>0</td>\n",
              "    </tr>\n",
              "    <tr>\n",
              "      <th>2</th>\n",
              "      <td>CCCCNc1c(C(=O)OCC)cnc2c1cnn2CC</td>\n",
              "      <td>0</td>\n",
              "      <td>0</td>\n",
              "      <td>0</td>\n",
              "      <td>0</td>\n",
              "      <td>0</td>\n",
              "      <td>0</td>\n",
              "      <td>0</td>\n",
              "      <td>0</td>\n",
              "      <td>0</td>\n",
              "      <td>1</td>\n",
              "      <td>0</td>\n",
              "    </tr>\n",
              "    <tr>\n",
              "      <th>3</th>\n",
              "      <td>C#Cc1cccc(Nc2ncnc3cc(OCCOC)c(OCCOC)cc23)c1.Cl</td>\n",
              "      <td>0</td>\n",
              "      <td>0</td>\n",
              "      <td>0</td>\n",
              "      <td>0</td>\n",
              "      <td>0</td>\n",
              "      <td>0</td>\n",
              "      <td>0</td>\n",
              "      <td>-1</td>\n",
              "      <td>0</td>\n",
              "      <td>0</td>\n",
              "      <td>1</td>\n",
              "    </tr>\n",
              "    <tr>\n",
              "      <th>4</th>\n",
              "      <td>CC1OC2(CCCCC2Oc2cccc(Cl)c2)N=C1O</td>\n",
              "      <td>0</td>\n",
              "      <td>0</td>\n",
              "      <td>0</td>\n",
              "      <td>0</td>\n",
              "      <td>0</td>\n",
              "      <td>0</td>\n",
              "      <td>0</td>\n",
              "      <td>0</td>\n",
              "      <td>0</td>\n",
              "      <td>1</td>\n",
              "      <td>0</td>\n",
              "    </tr>\n",
              "    <tr>\n",
              "      <th>...</th>\n",
              "      <td>...</td>\n",
              "      <td>...</td>\n",
              "      <td>...</td>\n",
              "      <td>...</td>\n",
              "      <td>...</td>\n",
              "      <td>...</td>\n",
              "      <td>...</td>\n",
              "      <td>...</td>\n",
              "      <td>...</td>\n",
              "      <td>...</td>\n",
              "      <td>...</td>\n",
              "      <td>...</td>\n",
              "    </tr>\n",
              "    <tr>\n",
              "      <th>11995</th>\n",
              "      <td>CC(C)(C)NC[C@@H](O)COc1nsnc1N1CCOCC1</td>\n",
              "      <td>0</td>\n",
              "      <td>0</td>\n",
              "      <td>0</td>\n",
              "      <td>0</td>\n",
              "      <td>0</td>\n",
              "      <td>0</td>\n",
              "      <td>0</td>\n",
              "      <td>-1</td>\n",
              "      <td>0</td>\n",
              "      <td>0</td>\n",
              "      <td>0</td>\n",
              "    </tr>\n",
              "    <tr>\n",
              "      <th>11996</th>\n",
              "      <td>CCC[C@@]1(CCc2ccccc2)CC(O)=C([C@H](CC)c2cccc(N...</td>\n",
              "      <td>0</td>\n",
              "      <td>0</td>\n",
              "      <td>0</td>\n",
              "      <td>0</td>\n",
              "      <td>0</td>\n",
              "      <td>0</td>\n",
              "      <td>0</td>\n",
              "      <td>-1</td>\n",
              "      <td>0</td>\n",
              "      <td>0</td>\n",
              "      <td>0</td>\n",
              "    </tr>\n",
              "    <tr>\n",
              "      <th>11997</th>\n",
              "      <td>N=C(O)c1cnc(C2CC2)[nH]1</td>\n",
              "      <td>0</td>\n",
              "      <td>0</td>\n",
              "      <td>0</td>\n",
              "      <td>-1</td>\n",
              "      <td>0</td>\n",
              "      <td>0</td>\n",
              "      <td>0</td>\n",
              "      <td>0</td>\n",
              "      <td>0</td>\n",
              "      <td>0</td>\n",
              "      <td>0</td>\n",
              "    </tr>\n",
              "    <tr>\n",
              "      <th>11998</th>\n",
              "      <td>CN=C=O</td>\n",
              "      <td>0</td>\n",
              "      <td>0</td>\n",
              "      <td>0</td>\n",
              "      <td>0</td>\n",
              "      <td>0</td>\n",
              "      <td>0</td>\n",
              "      <td>-1</td>\n",
              "      <td>0</td>\n",
              "      <td>0</td>\n",
              "      <td>0</td>\n",
              "      <td>0</td>\n",
              "    </tr>\n",
              "    <tr>\n",
              "      <th>11999</th>\n",
              "      <td>Cc1ccc2c(c1N)C(=O)c1ccccc1C2=O</td>\n",
              "      <td>0</td>\n",
              "      <td>0</td>\n",
              "      <td>0</td>\n",
              "      <td>0</td>\n",
              "      <td>0</td>\n",
              "      <td>0</td>\n",
              "      <td>-1</td>\n",
              "      <td>0</td>\n",
              "      <td>1</td>\n",
              "      <td>0</td>\n",
              "      <td>0</td>\n",
              "    </tr>\n",
              "  </tbody>\n",
              "</table>\n",
              "<p>12000 rows × 12 columns</p>\n",
              "</div>\n",
              "      <button class=\"colab-df-convert\" onclick=\"convertToInteractive('df-af5810ab-3254-4ad6-a49c-8e39869135f6')\"\n",
              "              title=\"Convert this dataframe to an interactive table.\"\n",
              "              style=\"display:none;\">\n",
              "        \n",
              "  <svg xmlns=\"http://www.w3.org/2000/svg\" height=\"24px\"viewBox=\"0 0 24 24\"\n",
              "       width=\"24px\">\n",
              "    <path d=\"M0 0h24v24H0V0z\" fill=\"none\"/>\n",
              "    <path d=\"M18.56 5.44l.94 2.06.94-2.06 2.06-.94-2.06-.94-.94-2.06-.94 2.06-2.06.94zm-11 1L8.5 8.5l.94-2.06 2.06-.94-2.06-.94L8.5 2.5l-.94 2.06-2.06.94zm10 10l.94 2.06.94-2.06 2.06-.94-2.06-.94-.94-2.06-.94 2.06-2.06.94z\"/><path d=\"M17.41 7.96l-1.37-1.37c-.4-.4-.92-.59-1.43-.59-.52 0-1.04.2-1.43.59L10.3 9.45l-7.72 7.72c-.78.78-.78 2.05 0 2.83L4 21.41c.39.39.9.59 1.41.59.51 0 1.02-.2 1.41-.59l7.78-7.78 2.81-2.81c.8-.78.8-2.07 0-2.86zM5.41 20L4 18.59l7.72-7.72 1.47 1.35L5.41 20z\"/>\n",
              "  </svg>\n",
              "      </button>\n",
              "      \n",
              "  <style>\n",
              "    .colab-df-container {\n",
              "      display:flex;\n",
              "      flex-wrap:wrap;\n",
              "      gap: 12px;\n",
              "    }\n",
              "\n",
              "    .colab-df-convert {\n",
              "      background-color: #E8F0FE;\n",
              "      border: none;\n",
              "      border-radius: 50%;\n",
              "      cursor: pointer;\n",
              "      display: none;\n",
              "      fill: #1967D2;\n",
              "      height: 32px;\n",
              "      padding: 0 0 0 0;\n",
              "      width: 32px;\n",
              "    }\n",
              "\n",
              "    .colab-df-convert:hover {\n",
              "      background-color: #E2EBFA;\n",
              "      box-shadow: 0px 1px 2px rgba(60, 64, 67, 0.3), 0px 1px 3px 1px rgba(60, 64, 67, 0.15);\n",
              "      fill: #174EA6;\n",
              "    }\n",
              "\n",
              "    [theme=dark] .colab-df-convert {\n",
              "      background-color: #3B4455;\n",
              "      fill: #D2E3FC;\n",
              "    }\n",
              "\n",
              "    [theme=dark] .colab-df-convert:hover {\n",
              "      background-color: #434B5C;\n",
              "      box-shadow: 0px 1px 3px 1px rgba(0, 0, 0, 0.15);\n",
              "      filter: drop-shadow(0px 1px 2px rgba(0, 0, 0, 0.3));\n",
              "      fill: #FFFFFF;\n",
              "    }\n",
              "  </style>\n",
              "\n",
              "      <script>\n",
              "        const buttonEl =\n",
              "          document.querySelector('#df-af5810ab-3254-4ad6-a49c-8e39869135f6 button.colab-df-convert');\n",
              "        buttonEl.style.display =\n",
              "          google.colab.kernel.accessAllowed ? 'block' : 'none';\n",
              "\n",
              "        async function convertToInteractive(key) {\n",
              "          const element = document.querySelector('#df-af5810ab-3254-4ad6-a49c-8e39869135f6');\n",
              "          const dataTable =\n",
              "            await google.colab.kernel.invokeFunction('convertToInteractive',\n",
              "                                                     [key], {});\n",
              "          if (!dataTable) return;\n",
              "\n",
              "          const docLinkHtml = 'Like what you see? Visit the ' +\n",
              "            '<a target=\"_blank\" href=https://colab.research.google.com/notebooks/data_table.ipynb>data table notebook</a>'\n",
              "            + ' to learn more about interactive tables.';\n",
              "          element.innerHTML = '';\n",
              "          dataTable['output_type'] = 'display_data';\n",
              "          await google.colab.output.renderOutput(dataTable, element);\n",
              "          const docLink = document.createElement('div');\n",
              "          docLink.innerHTML = docLinkHtml;\n",
              "          element.appendChild(docLink);\n",
              "        }\n",
              "      </script>\n",
              "    </div>\n",
              "  </div>\n",
              "  "
            ]
          },
          "metadata": {},
          "execution_count": 5
        }
      ],
      "source": [
        "# Preprocessed Tox21 dataset with pre-assigned clusters\n",
        "data_training = pd.read_csv(\"data_train.csv\",index_col=0).reset_index(drop=True)\n",
        "data_training"
      ]
    },
    {
      "cell_type": "markdown",
      "metadata": {
        "id": "at1FlnU5TF0n"
      },
      "source": [
        "# Checking imabalanced classes for each output "
      ]
    },
    {
      "cell_type": "code",
      "execution_count": null,
      "metadata": {
        "colab": {
          "base_uri": "https://localhost:8080/"
        },
        "id": "KAJReulaTF0p",
        "outputId": "7d420779-8fe5-402c-9ea4-0aad86a87e77"
      },
      "outputs": [
        {
          "output_type": "stream",
          "name": "stdout",
          "text": [
            "task1\n",
            "----------------\n",
            "0    10977\n",
            "1      462\n",
            "Name: task1, dtype: int64\n",
            "**************************** \n",
            "\n",
            "task2\n",
            "----------------\n",
            "0    11368\n",
            "1      316\n",
            "Name: task2, dtype: int64\n",
            "**************************** \n",
            "\n",
            "task3\n",
            "----------------\n",
            "0    11038\n",
            "1      637\n",
            "Name: task3, dtype: int64\n",
            "**************************** \n",
            "\n",
            "task4\n",
            "----------------\n",
            "0    11390\n",
            "1       46\n",
            "Name: task4, dtype: int64\n",
            "**************************** \n",
            "\n",
            "task5\n",
            "----------------\n",
            "0    11368\n",
            "1      122\n",
            "Name: task5, dtype: int64\n",
            "**************************** \n",
            "\n",
            "task6\n",
            "----------------\n",
            "0    10990\n",
            "1       60\n",
            "Name: task6, dtype: int64\n",
            "**************************** \n",
            "\n",
            "task7\n",
            "----------------\n",
            "0    7689\n",
            "1     306\n",
            "Name: task7, dtype: int64\n",
            "**************************** \n",
            "\n",
            "task8\n",
            "----------------\n",
            "0    8196\n",
            "1      48\n",
            "Name: task8, dtype: int64\n",
            "**************************** \n",
            "\n",
            "task9\n",
            "----------------\n",
            "0    8374\n",
            "1     624\n",
            "Name: task9, dtype: int64\n",
            "**************************** \n",
            "\n",
            "task10\n",
            "----------------\n",
            "0    10686\n",
            "1     1004\n",
            "Name: task10, dtype: int64\n",
            "**************************** \n",
            "\n",
            "task11\n",
            "----------------\n",
            "0    11047\n",
            "1       73\n",
            "Name: task11, dtype: int64\n",
            "**************************** \n",
            "\n"
          ]
        }
      ],
      "source": [
        "for i in range (1,12):\n",
        "    print(f\"task{i}\")\n",
        "    print(\"----------------\")\n",
        "    print(data_training[f\"task{i}\"].value_counts()[[0,1]])\n",
        "    print(\"**************************** \\n\")\n",
        "    \n"
      ]
    },
    {
      "cell_type": "markdown",
      "metadata": {
        "id": "GP_c2Z7cTF0q"
      },
      "source": [
        "#### We noticed that :\n",
        "\n",
        "\"Class 0\" is always much higher than \"class 1\" "
      ]
    },
    {
      "cell_type": "markdown",
      "metadata": {
        "id": "FT_oByHoTF0r"
      },
      "source": [
        "# Dividing data to train Valdiation sets "
      ]
    },
    {
      "cell_type": "code",
      "execution_count": null,
      "metadata": {
        "id": "T_sFXNKuTF0t"
      },
      "outputs": [],
      "source": [
        "x_train,x_test,y_train,y_test=train_test_split(data_training[\"smiles\"],data_training.iloc[:,1:],test_size=0.2,random_state=42)"
      ]
    },
    {
      "cell_type": "code",
      "execution_count": null,
      "metadata": {
        "colab": {
          "base_uri": "https://localhost:8080/"
        },
        "id": "WB13RA19TF0u",
        "outputId": "a5b57d38-c661-4504-ef4c-fe97479cef39"
      },
      "outputs": [
        {
          "output_type": "execute_result",
          "data": {
            "text/plain": [
              "9182     0\n",
              "11091    0\n",
              "6428     0\n",
              "288      0\n",
              "2626     0\n",
              "        ..\n",
              "11964    0\n",
              "5191     0\n",
              "5390     0\n",
              "860      0\n",
              "7270     0\n",
              "Name: task1, Length: 9600, dtype: int64"
            ]
          },
          "metadata": {},
          "execution_count": 8
        }
      ],
      "source": [
        "y_train[\"task1\"]"
      ]
    },
    {
      "cell_type": "markdown",
      "metadata": {
        "id": "7Q_7wru7TF0v"
      },
      "source": [
        "# Calculate Morgan fingerprints for  training dataset"
      ]
    },
    {
      "cell_type": "code",
      "execution_count": null,
      "metadata": {
        "id": "1cmVUZ0MYMy9",
        "colab": {
          "base_uri": "https://localhost:8080/"
        },
        "outputId": "8f2bd519-a330-41a8-9860-5083fc2b81c6"
      },
      "outputs": [
        {
          "output_type": "stream",
          "name": "stderr",
          "text": [
            "100%|██████████| 9600/9600 [00:03<00:00, 2580.61it/s]\n"
          ]
        }
      ],
      "source": [
        "# Initialize variables\n",
        "fp_length = 1024\n",
        "fps_train = np.zeros((len(x_train), fp_length))\n",
        "\n",
        "# Calculate Morgan fingerprints and convert to numpy array\n",
        "for i, smiles in enumerate(tqdm(x_train)):\n",
        "    mol = Chem.MolFromSmiles(smiles)\n",
        "    fp_vec = AllChem.GetMorganFingerprintAsBitVect(mol, radius=3, nBits=fp_length)\n",
        "    arr = np.zeros((1,))\n",
        "    DataStructs.ConvertToNumpyArray(fp_vec, arr)\n",
        "    fps_train[i] = arr"
      ]
    },
    {
      "cell_type": "markdown",
      "metadata": {
        "id": "_xXks3QcTF0x"
      },
      "source": [
        " # Calculate Morgan fingerprints for  validation  dataset"
      ]
    },
    {
      "cell_type": "code",
      "execution_count": null,
      "metadata": {
        "colab": {
          "base_uri": "https://localhost:8080/"
        },
        "id": "ggo91twjTF0z",
        "outputId": "01de07be-1569-485b-c4c7-132c57a7d0de"
      },
      "outputs": [
        {
          "output_type": "stream",
          "name": "stderr",
          "text": [
            "100%|██████████| 2400/2400 [00:01<00:00, 1932.02it/s]\n"
          ]
        }
      ],
      "source": [
        "\n",
        "fp_length = 1024\n",
        "fps_val = np.zeros((len(x_test), fp_length))\n",
        "\n",
        "# Calculate Morgan fingerprints and convert to numpy array\n",
        "for i, smiles in enumerate(tqdm(x_test)):\n",
        "    mol = Chem.MolFromSmiles(smiles)\n",
        "    fp_vec = AllChem.GetMorganFingerprintAsBitVect(mol, radius=3, nBits=fp_length)\n",
        "    arr = np.zeros((1,))\n",
        "    DataStructs.ConvertToNumpyArray(fp_vec, arr)\n",
        "    fps_val[i] = arr"
      ]
    },
    {
      "cell_type": "code",
      "execution_count": null,
      "metadata": {
        "colab": {
          "base_uri": "https://localhost:8080/"
        },
        "id": "EowZfqWPTF01",
        "outputId": "a40a1759-ff74-44e3-e9f7-8f5e8428b701"
      },
      "outputs": [
        {
          "output_type": "execute_result",
          "data": {
            "text/plain": [
              "(9600, 1024)"
            ]
          },
          "metadata": {},
          "execution_count": 11
        }
      ],
      "source": [
        "fps_train.shape"
      ]
    },
    {
      "cell_type": "code",
      "execution_count": null,
      "metadata": {
        "colab": {
          "base_uri": "https://localhost:8080/"
        },
        "id": "SgNE71cYTF02",
        "outputId": "56efb273-8105-4de5-ecab-0b31ee0b6cc4"
      },
      "outputs": [
        {
          "output_type": "execute_result",
          "data": {
            "text/plain": [
              "(2400, 1024)"
            ]
          },
          "metadata": {},
          "execution_count": 12
        }
      ],
      "source": [
        "fps_val.shape"
      ]
    },
    {
      "cell_type": "code",
      "execution_count": null,
      "metadata": {
        "colab": {
          "base_uri": "https://localhost:8080/"
        },
        "id": "hmjghSomTF03",
        "outputId": "e275fd99-b8d1-4d6a-e79b-3533a8810eba"
      },
      "outputs": [
        {
          "output_type": "execute_result",
          "data": {
            "text/plain": [
              "array([0, 0, 0, ..., 0, 0, 0])"
            ]
          },
          "metadata": {},
          "execution_count": 13
        }
      ],
      "source": [
        "idx = (y_train.values[:, 0] != (-1))\n",
        "y_train.values[idx, 0]"
      ]
    },
    {
      "cell_type": "code",
      "execution_count": null,
      "metadata": {
        "colab": {
          "base_uri": "https://localhost:8080/"
        },
        "id": "N_rMXHkPTF04",
        "outputId": "a0934c4b-112c-4947-d1ef-dac1d158a3a9"
      },
      "outputs": [
        {
          "output_type": "stream",
          "name": "stdout",
          "text": [
            "9103\n"
          ]
        }
      ],
      "source": [
        "ind=y_train.values[:, 1] != (-1)\n",
        "uni=np.unique(y_train.values[ind,1], return_counts=True)\n",
        "print(uni[1][0])"
      ]
    },
    {
      "cell_type": "code",
      "execution_count": null,
      "metadata": {
        "id": "iXI1gkunTF05"
      },
      "outputs": [],
      "source": [
        "sampling_strategy = {0: uni[1][0], 1: uni[1][0]}"
      ]
    },
    {
      "cell_type": "markdown",
      "source": [
        "#Train model on random split"
      ],
      "metadata": {
        "id": "6qWselFP93Go"
      }
    },
    {
      "cell_type": "markdown",
      "source": [
        "We can now train a random forest model using the Morgan fingerprints as input. Here we don't use the clustering ."
      ],
      "metadata": {
        "id": "dS3_nHAr-MFK"
      }
    },
    {
      "cell_type": "code",
      "execution_count": null,
      "metadata": {
        "id": "dLaq3B_CTF06"
      },
      "outputs": [],
      "source": [
        "def train_data_upsample (fps_train,fps_val,y_train):\n",
        "    classifiers=[]\n",
        "    Y_hat_all=np.zeros(shape=(fps_val.shape[0],11))\n",
        "    print(Y_hat_all.shape)\n",
        "    for i in range(y_train.shape[1]):\n",
        "        classifiers.append(RandomForestClassifier(n_estimators=100, random_state=1024))\n",
        "        idx_train = (y_train.values[:, i] != (-1))\n",
        "        X_train=fps_train[idx_train]\n",
        "        Y_train=y_train.values[idx_train, i]\n",
        "        uni=np.unique(Y_train, return_counts=True)\n",
        "        sampling_strategy = {0: uni[1][0], 1: uni[1][0]}\n",
        "        smote = SMOTE(sampling_strategy=sampling_strategy, random_state=42)\n",
        "        X_train,Y_train=smote.fit_resample(X_train,Y_train)\n",
        "        classifiers[i].fit(X_train, Y_train)\n",
        "        Y_hat_all[:,i]=(classifiers[i].predict_proba(fps_val)[:,1])\n",
        "    return classifiers,Y_hat_all"
      ]
    },
    {
      "cell_type": "code",
      "execution_count": null,
      "metadata": {
        "id": "JSgm1IA5TF07"
      },
      "outputs": [],
      "source": [
        "# def train_data_grid (fps_train,fps_val,y_train):\n",
        "#     best_params=[]\n",
        "#     best_roc_auc=[]\n",
        "#     Y_hat_all=np.zeros(shape=(fps_val.shape[0],11))\n",
        "#     print(Y_hat_all.shape)\n",
        "#     scoring = 'roc_auc'\n",
        "#     param_grid = {'n_estimators': [50, 100, 200],\n",
        "#                   'max_depth': [2, 5, 10],\n",
        "#                   'min_samples_split': [2, 5, 10],\n",
        "#                   'min_samples_leaf': [1, 2, 4], \n",
        "#                   \"criterion\":[\"gini\", \"entropy\"],\n",
        "#                   \"random_state\":[1024], \n",
        "#                   \"class_weight\":[{0:1,1:100},{0:1,1:1000}]}\n",
        "#     for i in range(y_train.shape[1]):\n",
        "#         rf=RandomForestClassifier( )\n",
        "#         grid_search = GridSearchCV(estimator=rf, param_grid=param_grid,scoring=scoring, cv=5)\n",
        "#         idx_train = (y_train.values[:, i] != (-1))\n",
        "#         X_train=fps_train[idx_train]\n",
        "#         Y_train=y_train.values[idx_train, i]\n",
        "#         grid_search.fit(X_train, Y_train)\n",
        "#         best_params.append(grid_search.best_params_)\n",
        "\n",
        "#         best_roc_auc.append(roc_auc_score(y_test, grid_search.predict_proba(X_train)[:,1]))\n",
        "\n",
        "#         Y_hat_all[:,i]=(grid_search.predict_proba[:,1])\n",
        "#     return Y_hat_all,best_roc_auc"
      ]
    },
    {
      "cell_type": "markdown",
      "source": [
        "#Metrics \n",
        "\n",
        "Area under the ROC curve (AUC)"
      ],
      "metadata": {
        "id": "W5X86m_W-uDF"
      }
    },
    {
      "cell_type": "code",
      "execution_count": null,
      "metadata": {
        "id": "lgB3ybvgTF09"
      },
      "outputs": [],
      "source": [
        "def Avg_AUC_score (y_test,Y_hat_all):\n",
        "    auc_per_task = []\n",
        "    for j in range(y_test.shape[1]):\n",
        "        y_true = y_test.values[:, j]\n",
        "        # mask out unknown samples\n",
        "        idx = (y_true != (-1))\n",
        "        # calculate AUC per task\n",
        "        auc_per_task.append(roc_auc_score(y_true[idx], Y_hat_all[idx,j]))\n",
        "    avg_auc = np.mean(auc_per_task)\n",
        "    print(avg_auc)\n",
        "    return avg_auc"
      ]
    },
    {
      "cell_type": "code",
      "execution_count": null,
      "metadata": {
        "colab": {
          "base_uri": "https://localhost:8080/"
        },
        "id": "zQddKB8LTF0_",
        "outputId": "a6b1e1f2-2c6a-4ab5-dc5a-72b67487743f"
      },
      "outputs": [
        {
          "output_type": "stream",
          "name": "stdout",
          "text": [
            "(2400, 11)\n"
          ]
        }
      ],
      "source": [
        "classifiers,y_hat_all=train_data_upsample (fps_train,fps_val,y_train)"
      ]
    },
    {
      "cell_type": "code",
      "execution_count": null,
      "metadata": {
        "colab": {
          "base_uri": "https://localhost:8080/"
        },
        "id": "ZgyC2GkyTF1A",
        "outputId": "9ddf8d55-286a-4deb-b477-190d3257ac62"
      },
      "outputs": [
        {
          "output_type": "stream",
          "name": "stdout",
          "text": [
            "0.6805792130529553\n"
          ]
        }
      ],
      "source": [
        "avg_auc=Avg_AUC_score (y_test,y_hat_all)"
      ]
    },
    {
      "cell_type": "code",
      "source": [],
      "metadata": {
        "id": "JQspZ47M_Th9"
      },
      "execution_count": null,
      "outputs": []
    },
    {
      "cell_type": "markdown",
      "metadata": {
        "id": "gIilXIiUTF1D"
      },
      "source": [
        "# Training over All training data"
      ]
    },
    {
      "cell_type": "code",
      "execution_count": null,
      "metadata": {
        "id": "K7TC5mE_TF1E"
      },
      "outputs": [],
      "source": [
        "x_train=data_training[\"smiles\"]\n",
        "y_train=data_training.iloc[:,1:]"
      ]
    },
    {
      "cell_type": "markdown",
      "source": [
        "#Testing Dataset"
      ],
      "metadata": {
        "id": "z2eWRats_2Mu"
      }
    },
    {
      "cell_type": "code",
      "execution_count": null,
      "metadata": {
        "colab": {
          "base_uri": "https://localhost:8080/",
          "height": 419
        },
        "id": "ny4BUDqtV4Jm",
        "outputId": "b5271b85-6174-4353-b1f9-965bcbb26869"
      },
      "outputs": [
        {
          "output_type": "execute_result",
          "data": {
            "text/plain": [
              "                                                 smiles\n",
              "0     OC(COc1ccc(Cl)cc1)=N[C@H]1CC[C@H](N=C(O)COc2cc...\n",
              "1     CCCO/N=C(/C)c1cc(C(O)=NC(Cc2cc(F)cc(F)c2)[C@@H...\n",
              "2                                      COc1cc(Cl)ccc1Cl\n",
              "3           COc1cc(C(O)=NCc2ccc(OCCN(C)C)cc2)cc(OC)c1OC\n",
              "4     CCC(=O)O[C@@]1(C(=O)CCl)[C@@H](C)C[C@H]2[C@@H]...\n",
              "...                                                 ...\n",
              "5891  N#Cc1cc(NC(=O)C(=O)O)c(Cl)c(NC(=O)C(=O)O)c1.NC...\n",
              "5892                     O=c1cccc2n1C[C@@H]1CNC[C@H]2C1\n",
              "5893  CSCC[C@H](N=C(O)[C@H](Cc1ccccc1)N=C(O)CN=C(O)C...\n",
              "5894  CCn1cc2c3c(cc(C(O)=NC(Cc4ccccc4)[C@H](O)C[NH2+...\n",
              "5895                   C[C@H]1CCCN(S(C)(=O)=O)[C@@H]1CO\n",
              "\n",
              "[5896 rows x 1 columns]"
            ],
            "text/html": [
              "\n",
              "  <div id=\"df-8d5ef3ec-56dd-4f57-86b6-d7c84d1515d6\">\n",
              "    <div class=\"colab-df-container\">\n",
              "      <div>\n",
              "<style scoped>\n",
              "    .dataframe tbody tr th:only-of-type {\n",
              "        vertical-align: middle;\n",
              "    }\n",
              "\n",
              "    .dataframe tbody tr th {\n",
              "        vertical-align: top;\n",
              "    }\n",
              "\n",
              "    .dataframe thead th {\n",
              "        text-align: right;\n",
              "    }\n",
              "</style>\n",
              "<table border=\"1\" class=\"dataframe\">\n",
              "  <thead>\n",
              "    <tr style=\"text-align: right;\">\n",
              "      <th></th>\n",
              "      <th>smiles</th>\n",
              "    </tr>\n",
              "  </thead>\n",
              "  <tbody>\n",
              "    <tr>\n",
              "      <th>0</th>\n",
              "      <td>OC(COc1ccc(Cl)cc1)=N[C@H]1CC[C@H](N=C(O)COc2cc...</td>\n",
              "    </tr>\n",
              "    <tr>\n",
              "      <th>1</th>\n",
              "      <td>CCCO/N=C(/C)c1cc(C(O)=NC(Cc2cc(F)cc(F)c2)[C@@H...</td>\n",
              "    </tr>\n",
              "    <tr>\n",
              "      <th>2</th>\n",
              "      <td>COc1cc(Cl)ccc1Cl</td>\n",
              "    </tr>\n",
              "    <tr>\n",
              "      <th>3</th>\n",
              "      <td>COc1cc(C(O)=NCc2ccc(OCCN(C)C)cc2)cc(OC)c1OC</td>\n",
              "    </tr>\n",
              "    <tr>\n",
              "      <th>4</th>\n",
              "      <td>CCC(=O)O[C@@]1(C(=O)CCl)[C@@H](C)C[C@H]2[C@@H]...</td>\n",
              "    </tr>\n",
              "    <tr>\n",
              "      <th>...</th>\n",
              "      <td>...</td>\n",
              "    </tr>\n",
              "    <tr>\n",
              "      <th>5891</th>\n",
              "      <td>N#Cc1cc(NC(=O)C(=O)O)c(Cl)c(NC(=O)C(=O)O)c1.NC...</td>\n",
              "    </tr>\n",
              "    <tr>\n",
              "      <th>5892</th>\n",
              "      <td>O=c1cccc2n1C[C@@H]1CNC[C@H]2C1</td>\n",
              "    </tr>\n",
              "    <tr>\n",
              "      <th>5893</th>\n",
              "      <td>CSCC[C@H](N=C(O)[C@H](Cc1ccccc1)N=C(O)CN=C(O)C...</td>\n",
              "    </tr>\n",
              "    <tr>\n",
              "      <th>5894</th>\n",
              "      <td>CCn1cc2c3c(cc(C(O)=NC(Cc4ccccc4)[C@H](O)C[NH2+...</td>\n",
              "    </tr>\n",
              "    <tr>\n",
              "      <th>5895</th>\n",
              "      <td>C[C@H]1CCCN(S(C)(=O)=O)[C@@H]1CO</td>\n",
              "    </tr>\n",
              "  </tbody>\n",
              "</table>\n",
              "<p>5896 rows × 1 columns</p>\n",
              "</div>\n",
              "      <button class=\"colab-df-convert\" onclick=\"convertToInteractive('df-8d5ef3ec-56dd-4f57-86b6-d7c84d1515d6')\"\n",
              "              title=\"Convert this dataframe to an interactive table.\"\n",
              "              style=\"display:none;\">\n",
              "        \n",
              "  <svg xmlns=\"http://www.w3.org/2000/svg\" height=\"24px\"viewBox=\"0 0 24 24\"\n",
              "       width=\"24px\">\n",
              "    <path d=\"M0 0h24v24H0V0z\" fill=\"none\"/>\n",
              "    <path d=\"M18.56 5.44l.94 2.06.94-2.06 2.06-.94-2.06-.94-.94-2.06-.94 2.06-2.06.94zm-11 1L8.5 8.5l.94-2.06 2.06-.94-2.06-.94L8.5 2.5l-.94 2.06-2.06.94zm10 10l.94 2.06.94-2.06 2.06-.94-2.06-.94-.94-2.06-.94 2.06-2.06.94z\"/><path d=\"M17.41 7.96l-1.37-1.37c-.4-.4-.92-.59-1.43-.59-.52 0-1.04.2-1.43.59L10.3 9.45l-7.72 7.72c-.78.78-.78 2.05 0 2.83L4 21.41c.39.39.9.59 1.41.59.51 0 1.02-.2 1.41-.59l7.78-7.78 2.81-2.81c.8-.78.8-2.07 0-2.86zM5.41 20L4 18.59l7.72-7.72 1.47 1.35L5.41 20z\"/>\n",
              "  </svg>\n",
              "      </button>\n",
              "      \n",
              "  <style>\n",
              "    .colab-df-container {\n",
              "      display:flex;\n",
              "      flex-wrap:wrap;\n",
              "      gap: 12px;\n",
              "    }\n",
              "\n",
              "    .colab-df-convert {\n",
              "      background-color: #E8F0FE;\n",
              "      border: none;\n",
              "      border-radius: 50%;\n",
              "      cursor: pointer;\n",
              "      display: none;\n",
              "      fill: #1967D2;\n",
              "      height: 32px;\n",
              "      padding: 0 0 0 0;\n",
              "      width: 32px;\n",
              "    }\n",
              "\n",
              "    .colab-df-convert:hover {\n",
              "      background-color: #E2EBFA;\n",
              "      box-shadow: 0px 1px 2px rgba(60, 64, 67, 0.3), 0px 1px 3px 1px rgba(60, 64, 67, 0.15);\n",
              "      fill: #174EA6;\n",
              "    }\n",
              "\n",
              "    [theme=dark] .colab-df-convert {\n",
              "      background-color: #3B4455;\n",
              "      fill: #D2E3FC;\n",
              "    }\n",
              "\n",
              "    [theme=dark] .colab-df-convert:hover {\n",
              "      background-color: #434B5C;\n",
              "      box-shadow: 0px 1px 3px 1px rgba(0, 0, 0, 0.15);\n",
              "      filter: drop-shadow(0px 1px 2px rgba(0, 0, 0, 0.3));\n",
              "      fill: #FFFFFF;\n",
              "    }\n",
              "  </style>\n",
              "\n",
              "      <script>\n",
              "        const buttonEl =\n",
              "          document.querySelector('#df-8d5ef3ec-56dd-4f57-86b6-d7c84d1515d6 button.colab-df-convert');\n",
              "        buttonEl.style.display =\n",
              "          google.colab.kernel.accessAllowed ? 'block' : 'none';\n",
              "\n",
              "        async function convertToInteractive(key) {\n",
              "          const element = document.querySelector('#df-8d5ef3ec-56dd-4f57-86b6-d7c84d1515d6');\n",
              "          const dataTable =\n",
              "            await google.colab.kernel.invokeFunction('convertToInteractive',\n",
              "                                                     [key], {});\n",
              "          if (!dataTable) return;\n",
              "\n",
              "          const docLinkHtml = 'Like what you see? Visit the ' +\n",
              "            '<a target=\"_blank\" href=https://colab.research.google.com/notebooks/data_table.ipynb>data table notebook</a>'\n",
              "            + ' to learn more about interactive tables.';\n",
              "          element.innerHTML = '';\n",
              "          dataTable['output_type'] = 'display_data';\n",
              "          await google.colab.output.renderOutput(dataTable, element);\n",
              "          const docLink = document.createElement('div');\n",
              "          docLink.innerHTML = docLinkHtml;\n",
              "          element.appendChild(docLink);\n",
              "        }\n",
              "      </script>\n",
              "    </div>\n",
              "  </div>\n",
              "  "
            ]
          },
          "metadata": {},
          "execution_count": 22
        }
      ],
      "source": [
        "data_test = pd.read_csv(\"smiles_test.csv\",index_col=0).reset_index(drop=True)\n",
        "data_test"
      ]
    },
    {
      "cell_type": "markdown",
      "metadata": {
        "id": "VvVPf1CUTF1H"
      },
      "source": [
        " # Calculate Morgan fingerprints for  Testing  dataset"
      ]
    },
    {
      "cell_type": "code",
      "execution_count": null,
      "metadata": {
        "colab": {
          "base_uri": "https://localhost:8080/"
        },
        "id": "Msu6d9kpjBe8",
        "outputId": "a24f3d4b-196c-428f-cd4f-d8ae9d12c462"
      },
      "outputs": [
        {
          "output_type": "stream",
          "name": "stderr",
          "text": [
            "100%|██████████| 5896/5896 [00:03<00:00, 1693.96it/s]\n"
          ]
        }
      ],
      "source": [
        "# Initialize variables\n",
        "fp_length = 1024\n",
        "fps_test = np.zeros((len(data_test), fp_length))\n",
        "\n",
        "# Calculate Morgan fingerprints and convert to numpy array\n",
        "for i, smiles in enumerate(tqdm(data_test['smiles'])):\n",
        "    mol = Chem.MolFromSmiles(smiles)\n",
        "    fp_vec = AllChem.GetMorganFingerprintAsBitVect(mol, radius=3, nBits=fp_length)\n",
        "    arr = np.zeros((1,))\n",
        "    DataStructs.ConvertToNumpyArray(fp_vec, arr)\n",
        "    fps_test[i] = arr"
      ]
    },
    {
      "cell_type": "markdown",
      "source": [
        " # Calculate Morgan fingerprints for  Training  dataset"
      ],
      "metadata": {
        "id": "ksq3zejFAXPV"
      }
    },
    {
      "cell_type": "code",
      "execution_count": null,
      "metadata": {
        "colab": {
          "base_uri": "https://localhost:8080/"
        },
        "id": "qu6jK_QYTF1J",
        "outputId": "6b7e40ac-ab2e-4c14-e1d0-82b5cf37453d"
      },
      "outputs": [
        {
          "output_type": "stream",
          "name": "stderr",
          "text": [
            "100%|██████████| 12000/12000 [00:05<00:00, 2183.67it/s]\n"
          ]
        }
      ],
      "source": [
        "# Initialize variables\n",
        "fp_length = 1024\n",
        "fps_train = np.zeros((len(x_train), fp_length))\n",
        "\n",
        "# Calculate Morgan fingerprints and convert to numpy array\n",
        "for i, smiles in enumerate(tqdm(x_train)):\n",
        "    mol = Chem.MolFromSmiles(smiles)\n",
        "    fp_vec = AllChem.GetMorganFingerprintAsBitVect(mol, radius=3, nBits=fp_length)\n",
        "    arr = np.zeros((1,))\n",
        "    DataStructs.ConvertToNumpyArray(fp_vec, arr)\n",
        "    fps_train[i] = arr"
      ]
    },
    {
      "cell_type": "markdown",
      "source": [
        "#Training the model using Random forest "
      ],
      "metadata": {
        "id": "-i9QEFK-AkPp"
      }
    },
    {
      "cell_type": "code",
      "execution_count": null,
      "metadata": {
        "id": "jQ14u38jm1Oq",
        "colab": {
          "base_uri": "https://localhost:8080/"
        },
        "outputId": "3574a604-d2f1-4c6c-e12d-d21d52f2c0db"
      },
      "outputs": [
        {
          "output_type": "stream",
          "name": "stdout",
          "text": [
            "(5896, 11)\n"
          ]
        }
      ],
      "source": [
        "classifiers,y_hat_all=train_data_upsample (fps_train,fps_test,y_train)"
      ]
    },
    {
      "cell_type": "code",
      "execution_count": null,
      "metadata": {
        "id": "dXE0vO5QTF1M"
      },
      "outputs": [],
      "source": [
        "#Y_hat_all,best_roc_auc=train_data_grid (fps_train,fps_val,y_train)"
      ]
    },
    {
      "cell_type": "code",
      "execution_count": null,
      "metadata": {
        "colab": {
          "base_uri": "https://localhost:8080/",
          "height": 419
        },
        "id": "pGFTsYHV9YLW",
        "outputId": "ec589b63-638e-4eb8-a5e8-ed3b7a1bb82f"
      },
      "outputs": [
        {
          "output_type": "execute_result",
          "data": {
            "text/plain": [
              "        0       1         2     3         4     5      6     7         8   \\\n",
              "0     0.01  0.0500  0.005000  0.01  0.010000  0.00  0.060  0.01  0.050000   \n",
              "1     0.99  0.0040  0.020000  0.00  0.000000  0.00  0.000  0.00  0.020000   \n",
              "2     0.00  0.0100  0.000000  0.00  0.010000  0.00  0.130  0.00  0.210000   \n",
              "3     0.02  0.0100  0.026667  0.01  0.010000  0.00  0.010  0.00  0.000000   \n",
              "4     0.00  0.0100  0.356833  0.01  0.000000  0.00  0.065  0.00  0.343833   \n",
              "...    ...     ...       ...   ...       ...   ...    ...   ...       ...   \n",
              "5891  0.00  0.1800  0.105000  0.00  0.010000  0.01  0.100  0.00  0.118947   \n",
              "5892  0.03  0.0560  0.040000  0.00  0.003333  0.00  0.055  0.03  0.051667   \n",
              "5893  0.02  0.0450  0.092500  0.00  0.000000  0.00  0.035  0.00  0.040000   \n",
              "5894  0.90  0.0000  0.010000  0.02  0.010000  0.02  0.010  0.00  0.000000   \n",
              "5895  0.00  0.0075  0.010000  0.01  0.000000  0.00  0.000  0.00  0.010000   \n",
              "\n",
              "            9         10  \n",
              "0     0.230000  0.000000  \n",
              "1     0.010000  0.006667  \n",
              "2     0.040000  0.000000  \n",
              "3     0.030000  0.005000  \n",
              "4     0.788786  0.000000  \n",
              "...        ...       ...  \n",
              "5891  0.040000  0.010000  \n",
              "5892  0.185000  0.030000  \n",
              "5893  0.000000  0.000000  \n",
              "5894  0.020000  0.010000  \n",
              "5895  0.085000  0.000000  \n",
              "\n",
              "[5896 rows x 11 columns]"
            ],
            "text/html": [
              "\n",
              "  <div id=\"df-a4cd3740-317e-4e25-84a3-c5a7dee9e944\">\n",
              "    <div class=\"colab-df-container\">\n",
              "      <div>\n",
              "<style scoped>\n",
              "    .dataframe tbody tr th:only-of-type {\n",
              "        vertical-align: middle;\n",
              "    }\n",
              "\n",
              "    .dataframe tbody tr th {\n",
              "        vertical-align: top;\n",
              "    }\n",
              "\n",
              "    .dataframe thead th {\n",
              "        text-align: right;\n",
              "    }\n",
              "</style>\n",
              "<table border=\"1\" class=\"dataframe\">\n",
              "  <thead>\n",
              "    <tr style=\"text-align: right;\">\n",
              "      <th></th>\n",
              "      <th>0</th>\n",
              "      <th>1</th>\n",
              "      <th>2</th>\n",
              "      <th>3</th>\n",
              "      <th>4</th>\n",
              "      <th>5</th>\n",
              "      <th>6</th>\n",
              "      <th>7</th>\n",
              "      <th>8</th>\n",
              "      <th>9</th>\n",
              "      <th>10</th>\n",
              "    </tr>\n",
              "  </thead>\n",
              "  <tbody>\n",
              "    <tr>\n",
              "      <th>0</th>\n",
              "      <td>0.01</td>\n",
              "      <td>0.0500</td>\n",
              "      <td>0.005000</td>\n",
              "      <td>0.01</td>\n",
              "      <td>0.010000</td>\n",
              "      <td>0.00</td>\n",
              "      <td>0.060</td>\n",
              "      <td>0.01</td>\n",
              "      <td>0.050000</td>\n",
              "      <td>0.230000</td>\n",
              "      <td>0.000000</td>\n",
              "    </tr>\n",
              "    <tr>\n",
              "      <th>1</th>\n",
              "      <td>0.99</td>\n",
              "      <td>0.0040</td>\n",
              "      <td>0.020000</td>\n",
              "      <td>0.00</td>\n",
              "      <td>0.000000</td>\n",
              "      <td>0.00</td>\n",
              "      <td>0.000</td>\n",
              "      <td>0.00</td>\n",
              "      <td>0.020000</td>\n",
              "      <td>0.010000</td>\n",
              "      <td>0.006667</td>\n",
              "    </tr>\n",
              "    <tr>\n",
              "      <th>2</th>\n",
              "      <td>0.00</td>\n",
              "      <td>0.0100</td>\n",
              "      <td>0.000000</td>\n",
              "      <td>0.00</td>\n",
              "      <td>0.010000</td>\n",
              "      <td>0.00</td>\n",
              "      <td>0.130</td>\n",
              "      <td>0.00</td>\n",
              "      <td>0.210000</td>\n",
              "      <td>0.040000</td>\n",
              "      <td>0.000000</td>\n",
              "    </tr>\n",
              "    <tr>\n",
              "      <th>3</th>\n",
              "      <td>0.02</td>\n",
              "      <td>0.0100</td>\n",
              "      <td>0.026667</td>\n",
              "      <td>0.01</td>\n",
              "      <td>0.010000</td>\n",
              "      <td>0.00</td>\n",
              "      <td>0.010</td>\n",
              "      <td>0.00</td>\n",
              "      <td>0.000000</td>\n",
              "      <td>0.030000</td>\n",
              "      <td>0.005000</td>\n",
              "    </tr>\n",
              "    <tr>\n",
              "      <th>4</th>\n",
              "      <td>0.00</td>\n",
              "      <td>0.0100</td>\n",
              "      <td>0.356833</td>\n",
              "      <td>0.01</td>\n",
              "      <td>0.000000</td>\n",
              "      <td>0.00</td>\n",
              "      <td>0.065</td>\n",
              "      <td>0.00</td>\n",
              "      <td>0.343833</td>\n",
              "      <td>0.788786</td>\n",
              "      <td>0.000000</td>\n",
              "    </tr>\n",
              "    <tr>\n",
              "      <th>...</th>\n",
              "      <td>...</td>\n",
              "      <td>...</td>\n",
              "      <td>...</td>\n",
              "      <td>...</td>\n",
              "      <td>...</td>\n",
              "      <td>...</td>\n",
              "      <td>...</td>\n",
              "      <td>...</td>\n",
              "      <td>...</td>\n",
              "      <td>...</td>\n",
              "      <td>...</td>\n",
              "    </tr>\n",
              "    <tr>\n",
              "      <th>5891</th>\n",
              "      <td>0.00</td>\n",
              "      <td>0.1800</td>\n",
              "      <td>0.105000</td>\n",
              "      <td>0.00</td>\n",
              "      <td>0.010000</td>\n",
              "      <td>0.01</td>\n",
              "      <td>0.100</td>\n",
              "      <td>0.00</td>\n",
              "      <td>0.118947</td>\n",
              "      <td>0.040000</td>\n",
              "      <td>0.010000</td>\n",
              "    </tr>\n",
              "    <tr>\n",
              "      <th>5892</th>\n",
              "      <td>0.03</td>\n",
              "      <td>0.0560</td>\n",
              "      <td>0.040000</td>\n",
              "      <td>0.00</td>\n",
              "      <td>0.003333</td>\n",
              "      <td>0.00</td>\n",
              "      <td>0.055</td>\n",
              "      <td>0.03</td>\n",
              "      <td>0.051667</td>\n",
              "      <td>0.185000</td>\n",
              "      <td>0.030000</td>\n",
              "    </tr>\n",
              "    <tr>\n",
              "      <th>5893</th>\n",
              "      <td>0.02</td>\n",
              "      <td>0.0450</td>\n",
              "      <td>0.092500</td>\n",
              "      <td>0.00</td>\n",
              "      <td>0.000000</td>\n",
              "      <td>0.00</td>\n",
              "      <td>0.035</td>\n",
              "      <td>0.00</td>\n",
              "      <td>0.040000</td>\n",
              "      <td>0.000000</td>\n",
              "      <td>0.000000</td>\n",
              "    </tr>\n",
              "    <tr>\n",
              "      <th>5894</th>\n",
              "      <td>0.90</td>\n",
              "      <td>0.0000</td>\n",
              "      <td>0.010000</td>\n",
              "      <td>0.02</td>\n",
              "      <td>0.010000</td>\n",
              "      <td>0.02</td>\n",
              "      <td>0.010</td>\n",
              "      <td>0.00</td>\n",
              "      <td>0.000000</td>\n",
              "      <td>0.020000</td>\n",
              "      <td>0.010000</td>\n",
              "    </tr>\n",
              "    <tr>\n",
              "      <th>5895</th>\n",
              "      <td>0.00</td>\n",
              "      <td>0.0075</td>\n",
              "      <td>0.010000</td>\n",
              "      <td>0.01</td>\n",
              "      <td>0.000000</td>\n",
              "      <td>0.00</td>\n",
              "      <td>0.000</td>\n",
              "      <td>0.00</td>\n",
              "      <td>0.010000</td>\n",
              "      <td>0.085000</td>\n",
              "      <td>0.000000</td>\n",
              "    </tr>\n",
              "  </tbody>\n",
              "</table>\n",
              "<p>5896 rows × 11 columns</p>\n",
              "</div>\n",
              "      <button class=\"colab-df-convert\" onclick=\"convertToInteractive('df-a4cd3740-317e-4e25-84a3-c5a7dee9e944')\"\n",
              "              title=\"Convert this dataframe to an interactive table.\"\n",
              "              style=\"display:none;\">\n",
              "        \n",
              "  <svg xmlns=\"http://www.w3.org/2000/svg\" height=\"24px\"viewBox=\"0 0 24 24\"\n",
              "       width=\"24px\">\n",
              "    <path d=\"M0 0h24v24H0V0z\" fill=\"none\"/>\n",
              "    <path d=\"M18.56 5.44l.94 2.06.94-2.06 2.06-.94-2.06-.94-.94-2.06-.94 2.06-2.06.94zm-11 1L8.5 8.5l.94-2.06 2.06-.94-2.06-.94L8.5 2.5l-.94 2.06-2.06.94zm10 10l.94 2.06.94-2.06 2.06-.94-2.06-.94-.94-2.06-.94 2.06-2.06.94z\"/><path d=\"M17.41 7.96l-1.37-1.37c-.4-.4-.92-.59-1.43-.59-.52 0-1.04.2-1.43.59L10.3 9.45l-7.72 7.72c-.78.78-.78 2.05 0 2.83L4 21.41c.39.39.9.59 1.41.59.51 0 1.02-.2 1.41-.59l7.78-7.78 2.81-2.81c.8-.78.8-2.07 0-2.86zM5.41 20L4 18.59l7.72-7.72 1.47 1.35L5.41 20z\"/>\n",
              "  </svg>\n",
              "      </button>\n",
              "      \n",
              "  <style>\n",
              "    .colab-df-container {\n",
              "      display:flex;\n",
              "      flex-wrap:wrap;\n",
              "      gap: 12px;\n",
              "    }\n",
              "\n",
              "    .colab-df-convert {\n",
              "      background-color: #E8F0FE;\n",
              "      border: none;\n",
              "      border-radius: 50%;\n",
              "      cursor: pointer;\n",
              "      display: none;\n",
              "      fill: #1967D2;\n",
              "      height: 32px;\n",
              "      padding: 0 0 0 0;\n",
              "      width: 32px;\n",
              "    }\n",
              "\n",
              "    .colab-df-convert:hover {\n",
              "      background-color: #E2EBFA;\n",
              "      box-shadow: 0px 1px 2px rgba(60, 64, 67, 0.3), 0px 1px 3px 1px rgba(60, 64, 67, 0.15);\n",
              "      fill: #174EA6;\n",
              "    }\n",
              "\n",
              "    [theme=dark] .colab-df-convert {\n",
              "      background-color: #3B4455;\n",
              "      fill: #D2E3FC;\n",
              "    }\n",
              "\n",
              "    [theme=dark] .colab-df-convert:hover {\n",
              "      background-color: #434B5C;\n",
              "      box-shadow: 0px 1px 3px 1px rgba(0, 0, 0, 0.15);\n",
              "      filter: drop-shadow(0px 1px 2px rgba(0, 0, 0, 0.3));\n",
              "      fill: #FFFFFF;\n",
              "    }\n",
              "  </style>\n",
              "\n",
              "      <script>\n",
              "        const buttonEl =\n",
              "          document.querySelector('#df-a4cd3740-317e-4e25-84a3-c5a7dee9e944 button.colab-df-convert');\n",
              "        buttonEl.style.display =\n",
              "          google.colab.kernel.accessAllowed ? 'block' : 'none';\n",
              "\n",
              "        async function convertToInteractive(key) {\n",
              "          const element = document.querySelector('#df-a4cd3740-317e-4e25-84a3-c5a7dee9e944');\n",
              "          const dataTable =\n",
              "            await google.colab.kernel.invokeFunction('convertToInteractive',\n",
              "                                                     [key], {});\n",
              "          if (!dataTable) return;\n",
              "\n",
              "          const docLinkHtml = 'Like what you see? Visit the ' +\n",
              "            '<a target=\"_blank\" href=https://colab.research.google.com/notebooks/data_table.ipynb>data table notebook</a>'\n",
              "            + ' to learn more about interactive tables.';\n",
              "          element.innerHTML = '';\n",
              "          dataTable['output_type'] = 'display_data';\n",
              "          await google.colab.output.renderOutput(dataTable, element);\n",
              "          const docLink = document.createElement('div');\n",
              "          docLink.innerHTML = docLinkHtml;\n",
              "          element.appendChild(docLink);\n",
              "        }\n",
              "      </script>\n",
              "    </div>\n",
              "  </div>\n",
              "  "
            ]
          },
          "metadata": {},
          "execution_count": 26
        }
      ],
      "source": [
        "sub = pd.DataFrame(y_hat_all)\n",
        "sub"
      ]
    },
    {
      "cell_type": "markdown",
      "source": [
        "#Final results"
      ],
      "metadata": {
        "id": "lfBeeg-WBAc1"
      }
    },
    {
      "cell_type": "code",
      "execution_count": null,
      "metadata": {
        "colab": {
          "base_uri": "https://localhost:8080/",
          "height": 419
        },
        "id": "S6PD04rLX9v5",
        "outputId": "771de240-8953-43f3-a36a-404356c17268"
      },
      "outputs": [
        {
          "output_type": "execute_result",
          "data": {
            "text/plain": [
              "      task1   task2     task3  task4     task5  task6  task7  task8     task9  \\\n",
              "0      0.01  0.0500  0.005000   0.01  0.010000   0.00  0.060   0.01  0.050000   \n",
              "1      0.99  0.0040  0.020000   0.00  0.000000   0.00  0.000   0.00  0.020000   \n",
              "2      0.00  0.0100  0.000000   0.00  0.010000   0.00  0.130   0.00  0.210000   \n",
              "3      0.02  0.0100  0.026667   0.01  0.010000   0.00  0.010   0.00  0.000000   \n",
              "4      0.00  0.0100  0.356833   0.01  0.000000   0.00  0.065   0.00  0.343833   \n",
              "...     ...     ...       ...    ...       ...    ...    ...    ...       ...   \n",
              "5891   0.00  0.1800  0.105000   0.00  0.010000   0.01  0.100   0.00  0.118947   \n",
              "5892   0.03  0.0560  0.040000   0.00  0.003333   0.00  0.055   0.03  0.051667   \n",
              "5893   0.02  0.0450  0.092500   0.00  0.000000   0.00  0.035   0.00  0.040000   \n",
              "5894   0.90  0.0000  0.010000   0.02  0.010000   0.02  0.010   0.00  0.000000   \n",
              "5895   0.00  0.0075  0.010000   0.01  0.000000   0.00  0.000   0.00  0.010000   \n",
              "\n",
              "        task10    task11  \n",
              "0     0.230000  0.000000  \n",
              "1     0.010000  0.006667  \n",
              "2     0.040000  0.000000  \n",
              "3     0.030000  0.005000  \n",
              "4     0.788786  0.000000  \n",
              "...        ...       ...  \n",
              "5891  0.040000  0.010000  \n",
              "5892  0.185000  0.030000  \n",
              "5893  0.000000  0.000000  \n",
              "5894  0.020000  0.010000  \n",
              "5895  0.085000  0.000000  \n",
              "\n",
              "[5896 rows x 11 columns]"
            ],
            "text/html": [
              "\n",
              "  <div id=\"df-208699d1-3d64-4bb9-ad4f-63fec3416d24\">\n",
              "    <div class=\"colab-df-container\">\n",
              "      <div>\n",
              "<style scoped>\n",
              "    .dataframe tbody tr th:only-of-type {\n",
              "        vertical-align: middle;\n",
              "    }\n",
              "\n",
              "    .dataframe tbody tr th {\n",
              "        vertical-align: top;\n",
              "    }\n",
              "\n",
              "    .dataframe thead th {\n",
              "        text-align: right;\n",
              "    }\n",
              "</style>\n",
              "<table border=\"1\" class=\"dataframe\">\n",
              "  <thead>\n",
              "    <tr style=\"text-align: right;\">\n",
              "      <th></th>\n",
              "      <th>task1</th>\n",
              "      <th>task2</th>\n",
              "      <th>task3</th>\n",
              "      <th>task4</th>\n",
              "      <th>task5</th>\n",
              "      <th>task6</th>\n",
              "      <th>task7</th>\n",
              "      <th>task8</th>\n",
              "      <th>task9</th>\n",
              "      <th>task10</th>\n",
              "      <th>task11</th>\n",
              "    </tr>\n",
              "  </thead>\n",
              "  <tbody>\n",
              "    <tr>\n",
              "      <th>0</th>\n",
              "      <td>0.01</td>\n",
              "      <td>0.0500</td>\n",
              "      <td>0.005000</td>\n",
              "      <td>0.01</td>\n",
              "      <td>0.010000</td>\n",
              "      <td>0.00</td>\n",
              "      <td>0.060</td>\n",
              "      <td>0.01</td>\n",
              "      <td>0.050000</td>\n",
              "      <td>0.230000</td>\n",
              "      <td>0.000000</td>\n",
              "    </tr>\n",
              "    <tr>\n",
              "      <th>1</th>\n",
              "      <td>0.99</td>\n",
              "      <td>0.0040</td>\n",
              "      <td>0.020000</td>\n",
              "      <td>0.00</td>\n",
              "      <td>0.000000</td>\n",
              "      <td>0.00</td>\n",
              "      <td>0.000</td>\n",
              "      <td>0.00</td>\n",
              "      <td>0.020000</td>\n",
              "      <td>0.010000</td>\n",
              "      <td>0.006667</td>\n",
              "    </tr>\n",
              "    <tr>\n",
              "      <th>2</th>\n",
              "      <td>0.00</td>\n",
              "      <td>0.0100</td>\n",
              "      <td>0.000000</td>\n",
              "      <td>0.00</td>\n",
              "      <td>0.010000</td>\n",
              "      <td>0.00</td>\n",
              "      <td>0.130</td>\n",
              "      <td>0.00</td>\n",
              "      <td>0.210000</td>\n",
              "      <td>0.040000</td>\n",
              "      <td>0.000000</td>\n",
              "    </tr>\n",
              "    <tr>\n",
              "      <th>3</th>\n",
              "      <td>0.02</td>\n",
              "      <td>0.0100</td>\n",
              "      <td>0.026667</td>\n",
              "      <td>0.01</td>\n",
              "      <td>0.010000</td>\n",
              "      <td>0.00</td>\n",
              "      <td>0.010</td>\n",
              "      <td>0.00</td>\n",
              "      <td>0.000000</td>\n",
              "      <td>0.030000</td>\n",
              "      <td>0.005000</td>\n",
              "    </tr>\n",
              "    <tr>\n",
              "      <th>4</th>\n",
              "      <td>0.00</td>\n",
              "      <td>0.0100</td>\n",
              "      <td>0.356833</td>\n",
              "      <td>0.01</td>\n",
              "      <td>0.000000</td>\n",
              "      <td>0.00</td>\n",
              "      <td>0.065</td>\n",
              "      <td>0.00</td>\n",
              "      <td>0.343833</td>\n",
              "      <td>0.788786</td>\n",
              "      <td>0.000000</td>\n",
              "    </tr>\n",
              "    <tr>\n",
              "      <th>...</th>\n",
              "      <td>...</td>\n",
              "      <td>...</td>\n",
              "      <td>...</td>\n",
              "      <td>...</td>\n",
              "      <td>...</td>\n",
              "      <td>...</td>\n",
              "      <td>...</td>\n",
              "      <td>...</td>\n",
              "      <td>...</td>\n",
              "      <td>...</td>\n",
              "      <td>...</td>\n",
              "    </tr>\n",
              "    <tr>\n",
              "      <th>5891</th>\n",
              "      <td>0.00</td>\n",
              "      <td>0.1800</td>\n",
              "      <td>0.105000</td>\n",
              "      <td>0.00</td>\n",
              "      <td>0.010000</td>\n",
              "      <td>0.01</td>\n",
              "      <td>0.100</td>\n",
              "      <td>0.00</td>\n",
              "      <td>0.118947</td>\n",
              "      <td>0.040000</td>\n",
              "      <td>0.010000</td>\n",
              "    </tr>\n",
              "    <tr>\n",
              "      <th>5892</th>\n",
              "      <td>0.03</td>\n",
              "      <td>0.0560</td>\n",
              "      <td>0.040000</td>\n",
              "      <td>0.00</td>\n",
              "      <td>0.003333</td>\n",
              "      <td>0.00</td>\n",
              "      <td>0.055</td>\n",
              "      <td>0.03</td>\n",
              "      <td>0.051667</td>\n",
              "      <td>0.185000</td>\n",
              "      <td>0.030000</td>\n",
              "    </tr>\n",
              "    <tr>\n",
              "      <th>5893</th>\n",
              "      <td>0.02</td>\n",
              "      <td>0.0450</td>\n",
              "      <td>0.092500</td>\n",
              "      <td>0.00</td>\n",
              "      <td>0.000000</td>\n",
              "      <td>0.00</td>\n",
              "      <td>0.035</td>\n",
              "      <td>0.00</td>\n",
              "      <td>0.040000</td>\n",
              "      <td>0.000000</td>\n",
              "      <td>0.000000</td>\n",
              "    </tr>\n",
              "    <tr>\n",
              "      <th>5894</th>\n",
              "      <td>0.90</td>\n",
              "      <td>0.0000</td>\n",
              "      <td>0.010000</td>\n",
              "      <td>0.02</td>\n",
              "      <td>0.010000</td>\n",
              "      <td>0.02</td>\n",
              "      <td>0.010</td>\n",
              "      <td>0.00</td>\n",
              "      <td>0.000000</td>\n",
              "      <td>0.020000</td>\n",
              "      <td>0.010000</td>\n",
              "    </tr>\n",
              "    <tr>\n",
              "      <th>5895</th>\n",
              "      <td>0.00</td>\n",
              "      <td>0.0075</td>\n",
              "      <td>0.010000</td>\n",
              "      <td>0.01</td>\n",
              "      <td>0.000000</td>\n",
              "      <td>0.00</td>\n",
              "      <td>0.000</td>\n",
              "      <td>0.00</td>\n",
              "      <td>0.010000</td>\n",
              "      <td>0.085000</td>\n",
              "      <td>0.000000</td>\n",
              "    </tr>\n",
              "  </tbody>\n",
              "</table>\n",
              "<p>5896 rows × 11 columns</p>\n",
              "</div>\n",
              "      <button class=\"colab-df-convert\" onclick=\"convertToInteractive('df-208699d1-3d64-4bb9-ad4f-63fec3416d24')\"\n",
              "              title=\"Convert this dataframe to an interactive table.\"\n",
              "              style=\"display:none;\">\n",
              "        \n",
              "  <svg xmlns=\"http://www.w3.org/2000/svg\" height=\"24px\"viewBox=\"0 0 24 24\"\n",
              "       width=\"24px\">\n",
              "    <path d=\"M0 0h24v24H0V0z\" fill=\"none\"/>\n",
              "    <path d=\"M18.56 5.44l.94 2.06.94-2.06 2.06-.94-2.06-.94-.94-2.06-.94 2.06-2.06.94zm-11 1L8.5 8.5l.94-2.06 2.06-.94-2.06-.94L8.5 2.5l-.94 2.06-2.06.94zm10 10l.94 2.06.94-2.06 2.06-.94-2.06-.94-.94-2.06-.94 2.06-2.06.94z\"/><path d=\"M17.41 7.96l-1.37-1.37c-.4-.4-.92-.59-1.43-.59-.52 0-1.04.2-1.43.59L10.3 9.45l-7.72 7.72c-.78.78-.78 2.05 0 2.83L4 21.41c.39.39.9.59 1.41.59.51 0 1.02-.2 1.41-.59l7.78-7.78 2.81-2.81c.8-.78.8-2.07 0-2.86zM5.41 20L4 18.59l7.72-7.72 1.47 1.35L5.41 20z\"/>\n",
              "  </svg>\n",
              "      </button>\n",
              "      \n",
              "  <style>\n",
              "    .colab-df-container {\n",
              "      display:flex;\n",
              "      flex-wrap:wrap;\n",
              "      gap: 12px;\n",
              "    }\n",
              "\n",
              "    .colab-df-convert {\n",
              "      background-color: #E8F0FE;\n",
              "      border: none;\n",
              "      border-radius: 50%;\n",
              "      cursor: pointer;\n",
              "      display: none;\n",
              "      fill: #1967D2;\n",
              "      height: 32px;\n",
              "      padding: 0 0 0 0;\n",
              "      width: 32px;\n",
              "    }\n",
              "\n",
              "    .colab-df-convert:hover {\n",
              "      background-color: #E2EBFA;\n",
              "      box-shadow: 0px 1px 2px rgba(60, 64, 67, 0.3), 0px 1px 3px 1px rgba(60, 64, 67, 0.15);\n",
              "      fill: #174EA6;\n",
              "    }\n",
              "\n",
              "    [theme=dark] .colab-df-convert {\n",
              "      background-color: #3B4455;\n",
              "      fill: #D2E3FC;\n",
              "    }\n",
              "\n",
              "    [theme=dark] .colab-df-convert:hover {\n",
              "      background-color: #434B5C;\n",
              "      box-shadow: 0px 1px 3px 1px rgba(0, 0, 0, 0.15);\n",
              "      filter: drop-shadow(0px 1px 2px rgba(0, 0, 0, 0.3));\n",
              "      fill: #FFFFFF;\n",
              "    }\n",
              "  </style>\n",
              "\n",
              "      <script>\n",
              "        const buttonEl =\n",
              "          document.querySelector('#df-208699d1-3d64-4bb9-ad4f-63fec3416d24 button.colab-df-convert');\n",
              "        buttonEl.style.display =\n",
              "          google.colab.kernel.accessAllowed ? 'block' : 'none';\n",
              "\n",
              "        async function convertToInteractive(key) {\n",
              "          const element = document.querySelector('#df-208699d1-3d64-4bb9-ad4f-63fec3416d24');\n",
              "          const dataTable =\n",
              "            await google.colab.kernel.invokeFunction('convertToInteractive',\n",
              "                                                     [key], {});\n",
              "          if (!dataTable) return;\n",
              "\n",
              "          const docLinkHtml = 'Like what you see? Visit the ' +\n",
              "            '<a target=\"_blank\" href=https://colab.research.google.com/notebooks/data_table.ipynb>data table notebook</a>'\n",
              "            + ' to learn more about interactive tables.';\n",
              "          element.innerHTML = '';\n",
              "          dataTable['output_type'] = 'display_data';\n",
              "          await google.colab.output.renderOutput(dataTable, element);\n",
              "          const docLink = document.createElement('div');\n",
              "          docLink.innerHTML = docLinkHtml;\n",
              "          element.appendChild(docLink);\n",
              "        }\n",
              "      </script>\n",
              "    </div>\n",
              "  </div>\n",
              "  "
            ]
          },
          "metadata": {},
          "execution_count": 27
        }
      ],
      "source": [
        "sub = sub.rename(columns={0: 'task1', 1: 'task2', 2: 'task3', 2: 'task3', 3: 'task4', 4: 'task5', 5: 'task6', 6: 'task7', 7: 'task8', 8: 'task9', 9: 'task10', 10: 'task11'})\n",
        "sub"
      ]
    },
    {
      "cell_type": "code",
      "execution_count": null,
      "metadata": {
        "id": "ZjVRIaCRajlb"
      },
      "outputs": [],
      "source": [
        "sub.to_csv('output.csv', index=True)"
      ]
    }
  ],
  "metadata": {
    "colab": {
      "provenance": []
    },
    "kernelspec": {
      "display_name": "Python 3 (ipykernel)",
      "language": "python",
      "name": "python3"
    },
    "language_info": {
      "codemirror_mode": {
        "name": "ipython",
        "version": 3
      },
      "file_extension": ".py",
      "mimetype": "text/x-python",
      "name": "python",
      "nbconvert_exporter": "python",
      "pygments_lexer": "ipython3",
      "version": "3.9.12"
    }
  },
  "nbformat": 4,
  "nbformat_minor": 0
}